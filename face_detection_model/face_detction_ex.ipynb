{
 "cells": [
  {
   "cell_type": "code",
   "execution_count": 1,
   "id": "baffeab8",
   "metadata": {},
   "outputs": [],
   "source": [
    "from face_detection import *"
   ]
  },
  {
   "cell_type": "code",
   "execution_count": 2,
   "id": "22c28ae4",
   "metadata": {},
   "outputs": [],
   "source": [
    "f = face_detection(image_path = 'people.jpg')"
   ]
  },
  {
   "cell_type": "code",
   "execution_count": 3,
   "id": "fd6eaa08",
   "metadata": {},
   "outputs": [],
   "source": [
    "f.get_image()"
   ]
  },
  {
   "cell_type": "code",
   "execution_count": 4,
   "id": "e061c51e",
   "metadata": {},
   "outputs": [
    {
     "data": {
      "text/plain": [
       "True"
      ]
     },
     "execution_count": 4,
     "metadata": {},
     "output_type": "execute_result"
    }
   ],
   "source": [
    "f.detect_face()"
   ]
  }
 ],
 "metadata": {
  "kernelspec": {
   "display_name": "Python 3 (ipykernel)",
   "language": "python",
   "name": "python3"
  },
  "language_info": {
   "codemirror_mode": {
    "name": "ipython",
    "version": 3
   },
   "file_extension": ".py",
   "mimetype": "text/x-python",
   "name": "python",
   "nbconvert_exporter": "python",
   "pygments_lexer": "ipython3",
   "version": "3.9.7"
  }
 },
 "nbformat": 4,
 "nbformat_minor": 5
}

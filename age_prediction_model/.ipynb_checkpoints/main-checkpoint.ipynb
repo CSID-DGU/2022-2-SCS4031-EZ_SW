{
 "cells": [
  {
   "cell_type": "code",
   "execution_count": 1,
   "id": "dfc0691c",
   "metadata": {},
   "outputs": [],
   "source": [
    "from model import *\n",
    "from img_proc import *"
   ]
  },
  {
   "cell_type": "markdown",
   "id": "5d9e341c",
   "metadata": {},
   "source": [
    "## model 불러오기"
   ]
  },
  {
   "cell_type": "code",
   "execution_count": 2,
   "id": "f9dec1bc",
   "metadata": {},
   "outputs": [],
   "source": [
    "# .pt 파일이 있는 경로\n",
    "model_path = './model/age_predict_cnn_sep'"
   ]
  },
  {
   "cell_type": "code",
   "execution_count": 3,
   "id": "75359d55",
   "metadata": {},
   "outputs": [],
   "source": [
    "# model 객체 생성\n",
    "model = CNN()"
   ]
  },
  {
   "cell_type": "code",
   "execution_count": 4,
   "id": "fee08dfc",
   "metadata": {},
   "outputs": [
    {
     "data": {
      "text/plain": [
       "<All keys matched successfully>"
      ]
     },
     "execution_count": 4,
     "metadata": {},
     "output_type": "execute_result"
    }
   ],
   "source": [
    "model.load_state_dict(torch.load(model_path+'/age_cnn.pt'))"
   ]
  },
  {
   "cell_type": "markdown",
   "id": "54143fa3",
   "metadata": {},
   "source": [
    "## 이미지 가지고 test"
   ]
  },
  {
   "cell_type": "code",
   "execution_count": 5,
   "id": "81b310b0",
   "metadata": {},
   "outputs": [],
   "source": [
    "img_path = 'C:/Users/user/Desktop/old_man.jpg'"
   ]
  },
  {
   "cell_type": "code",
   "execution_count": 6,
   "id": "3b53c86c",
   "metadata": {},
   "outputs": [],
   "source": [
    "img_tensor = img_proc(img_path)"
   ]
  },
  {
   "cell_type": "code",
   "execution_count": 7,
   "id": "7bc59199",
   "metadata": {},
   "outputs": [],
   "source": [
    "output = model(img_tensor)"
   ]
  },
  {
   "cell_type": "code",
   "execution_count": 8,
   "id": "3b2d63ab",
   "metadata": {},
   "outputs": [
    {
     "data": {
      "text/plain": [
       "0.9997895359992981"
      ]
     },
     "execution_count": 8,
     "metadata": {},
     "output_type": "execute_result"
    }
   ],
   "source": [
    "output.item()"
   ]
  }
 ],
 "metadata": {
  "kernelspec": {
   "display_name": "Python 3 (ipykernel)",
   "language": "python",
   "name": "python3"
  },
  "language_info": {
   "codemirror_mode": {
    "name": "ipython",
    "version": 3
   },
   "file_extension": ".py",
   "mimetype": "text/x-python",
   "name": "python",
   "nbconvert_exporter": "python",
   "pygments_lexer": "ipython3",
   "version": "3.9.2"
  }
 },
 "nbformat": 4,
 "nbformat_minor": 5
}
